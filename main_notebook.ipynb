{
 "cells": [
  {
   "cell_type": "code",
   "execution_count": 1,
   "metadata": {},
   "outputs": [
    {
     "name": "stdout",
     "output_type": "stream",
     "text": [
      "Requirement already satisfied: spacy in /Users/inigoparra/opt/anaconda3/envs/tensorflow/lib/python3.7/site-packages (3.3.1)\n",
      "Requirement already satisfied: catalogue<2.1.0,>=2.0.6 in /Users/inigoparra/opt/anaconda3/envs/tensorflow/lib/python3.7/site-packages (from spacy) (2.0.7)\n",
      "Requirement already satisfied: wasabi<1.1.0,>=0.9.1 in /Users/inigoparra/opt/anaconda3/envs/tensorflow/lib/python3.7/site-packages (from spacy) (0.9.1)\n",
      "Requirement already satisfied: setuptools in /Users/inigoparra/opt/anaconda3/envs/tensorflow/lib/python3.7/site-packages (from spacy) (65.6.3)\n",
      "Requirement already satisfied: tqdm<5.0.0,>=4.38.0 in /Users/inigoparra/opt/anaconda3/envs/tensorflow/lib/python3.7/site-packages (from spacy) (4.64.1)\n",
      "Requirement already satisfied: requests<3.0.0,>=2.13.0 in /Users/inigoparra/opt/anaconda3/envs/tensorflow/lib/python3.7/site-packages (from spacy) (2.28.1)\n",
      "Requirement already satisfied: jinja2 in /Users/inigoparra/opt/anaconda3/envs/tensorflow/lib/python3.7/site-packages (from spacy) (3.1.2)\n",
      "Requirement already satisfied: spacy-legacy<3.1.0,>=3.0.9 in /Users/inigoparra/opt/anaconda3/envs/tensorflow/lib/python3.7/site-packages (from spacy) (3.0.9)\n",
      "Requirement already satisfied: pathy>=0.3.5 in /Users/inigoparra/opt/anaconda3/envs/tensorflow/lib/python3.7/site-packages (from spacy) (0.10.1)\n",
      "Requirement already satisfied: preshed<3.1.0,>=3.0.2 in /Users/inigoparra/opt/anaconda3/envs/tensorflow/lib/python3.7/site-packages (from spacy) (3.0.6)\n",
      "Requirement already satisfied: langcodes<4.0.0,>=3.2.0 in /Users/inigoparra/opt/anaconda3/envs/tensorflow/lib/python3.7/site-packages (from spacy) (3.3.0)\n",
      "Collecting pydantic!=1.8,!=1.8.1,<1.9.0,>=1.7.4\n",
      "  Using cached pydantic-1.8.2-cp37-cp37m-macosx_10_9_x86_64.whl (2.6 MB)\n",
      "Requirement already satisfied: thinc<8.1.0,>=8.0.14 in /Users/inigoparra/opt/anaconda3/envs/tensorflow/lib/python3.7/site-packages (from spacy) (8.0.15)\n",
      "Requirement already satisfied: blis<0.8.0,>=0.4.0 in /Users/inigoparra/opt/anaconda3/envs/tensorflow/lib/python3.7/site-packages (from spacy) (0.7.7)\n",
      "Requirement already satisfied: numpy>=1.15.0 in /Users/inigoparra/opt/anaconda3/envs/tensorflow/lib/python3.7/site-packages (from spacy) (1.21.5)\n",
      "Requirement already satisfied: murmurhash<1.1.0,>=0.28.0 in /Users/inigoparra/opt/anaconda3/envs/tensorflow/lib/python3.7/site-packages (from spacy) (1.0.7)\n",
      "Requirement already satisfied: cymem<2.1.0,>=2.0.2 in /Users/inigoparra/opt/anaconda3/envs/tensorflow/lib/python3.7/site-packages (from spacy) (2.0.6)\n",
      "Requirement already satisfied: spacy-loggers<2.0.0,>=1.0.0 in /Users/inigoparra/opt/anaconda3/envs/tensorflow/lib/python3.7/site-packages (from spacy) (1.0.1)\n",
      "Requirement already satisfied: packaging>=20.0 in /Users/inigoparra/opt/anaconda3/envs/tensorflow/lib/python3.7/site-packages (from spacy) (22.0)\n",
      "Requirement already satisfied: typing-extensions<4.2.0,>=3.7.4 in /Users/inigoparra/opt/anaconda3/envs/tensorflow/lib/python3.7/site-packages (from spacy) (3.10.0.2)\n",
      "Requirement already satisfied: typer<0.5.0,>=0.3.0 in /Users/inigoparra/opt/anaconda3/envs/tensorflow/lib/python3.7/site-packages (from spacy) (0.4.1)\n",
      "Requirement already satisfied: srsly<3.0.0,>=2.4.3 in /Users/inigoparra/opt/anaconda3/envs/tensorflow/lib/python3.7/site-packages (from spacy) (2.4.3)\n",
      "Requirement already satisfied: zipp>=0.5 in /Users/inigoparra/opt/anaconda3/envs/tensorflow/lib/python3.7/site-packages (from catalogue<2.1.0,>=2.0.6->spacy) (3.11.0)\n",
      "Requirement already satisfied: smart-open<7.0.0,>=5.2.1 in /Users/inigoparra/opt/anaconda3/envs/tensorflow/lib/python3.7/site-packages (from pathy>=0.3.5->spacy) (5.2.1)\n",
      "Requirement already satisfied: idna<4,>=2.5 in /Users/inigoparra/opt/anaconda3/envs/tensorflow/lib/python3.7/site-packages (from requests<3.0.0,>=2.13.0->spacy) (3.4)\n",
      "Requirement already satisfied: urllib3<1.27,>=1.21.1 in /Users/inigoparra/opt/anaconda3/envs/tensorflow/lib/python3.7/site-packages (from requests<3.0.0,>=2.13.0->spacy) (1.26.14)\n",
      "Requirement already satisfied: charset-normalizer<3,>=2 in /Users/inigoparra/opt/anaconda3/envs/tensorflow/lib/python3.7/site-packages (from requests<3.0.0,>=2.13.0->spacy) (2.0.4)\n",
      "Requirement already satisfied: certifi>=2017.4.17 in /Users/inigoparra/opt/anaconda3/envs/tensorflow/lib/python3.7/site-packages (from requests<3.0.0,>=2.13.0->spacy) (2022.12.7)\n",
      "Requirement already satisfied: click<9.0.0,>=7.1.1 in /Users/inigoparra/opt/anaconda3/envs/tensorflow/lib/python3.7/site-packages (from typer<0.5.0,>=0.3.0->spacy) (8.0.4)\n",
      "Requirement already satisfied: MarkupSafe>=2.0 in /Users/inigoparra/opt/anaconda3/envs/tensorflow/lib/python3.7/site-packages (from jinja2->spacy) (2.1.1)\n",
      "Requirement already satisfied: importlib-metadata in /Users/inigoparra/opt/anaconda3/envs/tensorflow/lib/python3.7/site-packages (from click<9.0.0,>=7.1.1->typer<0.5.0,>=0.3.0->spacy) (4.11.3)\n",
      "Installing collected packages: pydantic\n",
      "  Attempting uninstall: pydantic\n",
      "    Found existing installation: pydantic 1.9.0\n",
      "    Uninstalling pydantic-1.9.0:\n",
      "      Successfully uninstalled pydantic-1.9.0\n",
      "\u001b[31mERROR: pip's dependency resolver does not currently take into account all the packages that are installed. This behaviour is the source of the following dependency conflicts.\n",
      "spacy-transformers 1.1.5 requires transformers<4.18.0,>=3.4.0, but you have transformers 4.18.0 which is incompatible.\n",
      "es-core-news-sm 3.1.0 requires spacy<3.2.0,>=3.1.0, but you have spacy 3.3.1 which is incompatible.\n",
      "es-core-news-lg 3.1.0 requires spacy<3.2.0,>=3.1.0, but you have spacy 3.3.1 which is incompatible.\u001b[0m\u001b[31m\n",
      "\u001b[0mSuccessfully installed pydantic-1.8.2\n",
      "Note: you may need to restart the kernel to use updated packages.\n"
     ]
    }
   ],
   "source": [
    "pip install spacy"
   ]
  },
  {
   "cell_type": "code",
   "execution_count": 2,
   "metadata": {},
   "outputs": [
    {
     "name": "stderr",
     "output_type": "stream",
     "text": [
      "/Users/inigoparra/opt/anaconda3/envs/tensorflow/lib/python3.7/site-packages/tqdm/auto.py:22: TqdmWarning: IProgress not found. Please update jupyter and ipywidgets. See https://ipywidgets.readthedocs.io/en/stable/user_install.html\n",
      "  from .autonotebook import tqdm as notebook_tqdm\n",
      "2023-07-29 23:10:06.241305: I tensorflow/core/platform/cpu_feature_guard.cc:193] This TensorFlow binary is optimized with oneAPI Deep Neural Network Library (oneDNN) to use the following CPU instructions in performance-critical operations:  SSE4.1 SSE4.2\n",
      "To enable them in other operations, rebuild TensorFlow with the appropriate compiler flags.\n",
      "Using TensorFlow backend.\n"
     ]
    }
   ],
   "source": [
    "import spacy"
   ]
  },
  {
   "cell_type": "code",
   "execution_count": 3,
   "metadata": {},
   "outputs": [],
   "source": [
    "nlp = spacy.load('en_core_web_sm')"
   ]
  },
  {
   "cell_type": "code",
   "execution_count": 46,
   "metadata": {},
   "outputs": [],
   "source": [
    "doc = nlp('I love books and magazines')"
   ]
  },
  {
   "cell_type": "code",
   "execution_count": 47,
   "metadata": {},
   "outputs": [
    {
     "name": "stdout",
     "output_type": "stream",
     "text": [
      "I I PRON PRP nsubj Case=Nom|Number=Sing|Person=1|PronType=Prs\n",
      "love love VERB VBP ROOT Tense=Pres|VerbForm=Fin\n",
      "books book NOUN NNS dobj Number=Plur\n",
      "and and CCONJ CC cc ConjType=Cmp\n",
      "magazines magazine NOUN NNS conj Number=Plur\n"
     ]
    }
   ],
   "source": [
    "for token in doc:\n",
    "    print(token.text, \n",
    "          token.lemma_, \n",
    "          token.pos_, \n",
    "          token.tag_, \n",
    "          token.dep_, \n",
    "          token.morph\n",
    "          )\n"
   ]
  },
  {
   "cell_type": "code",
   "execution_count": 48,
   "metadata": {},
   "outputs": [
    {
     "name": "stderr",
     "output_type": "stream",
     "text": [
      "/Users/inigoparra/opt/anaconda3/envs/tensorflow/lib/python3.7/site-packages/spacy/displacy/__init__.py:205: UserWarning: [W006] No entities to visualize found in Doc object. If this is surprising to you, make sure the Doc was processed using a model that supports named entity recognition, and check the `doc.ents` property manually if necessary.\n",
      "  warnings.warn(Warnings.W006)\n"
     ]
    },
    {
     "data": {
      "text/html": [
       "<span class=\"tex2jax_ignore\"><div class=\"entities\" style=\"line-height: 2.5; direction: ltr\">I love books and magazines</div></span>"
      ],
      "text/plain": [
       "<IPython.core.display.HTML object>"
      ]
     },
     "metadata": {},
     "output_type": "display_data"
    }
   ],
   "source": [
    "spacy.displacy.render(doc, style='ent', jupyter=True)"
   ]
  },
  {
   "cell_type": "code",
   "execution_count": 49,
   "metadata": {},
   "outputs": [
    {
     "name": "stdout",
     "output_type": "stream",
     "text": [
      "Similary between I and I is: 1.0\n",
      "Similary between I and love is: 0.17194069921970367\n",
      "Similary between I and books is: -0.010449101217091084\n",
      "Similary between I and and is: -0.049598172307014465\n",
      "Similary between I and magazines is: -0.07849150151014328\n",
      "Similary between love and I is: 0.17194069921970367\n",
      "Similary between love and love is: 1.0\n",
      "Similary between love and books is: 0.07902601361274719\n",
      "Similary between love and and is: -0.058314550668001175\n",
      "Similary between love and magazines is: -0.13126049935817719\n",
      "Similary between books and I is: -0.010449101217091084\n",
      "Similary between books and love is: 0.07902601361274719\n",
      "Similary between books and books is: 1.0\n",
      "Similary between books and and is: 0.07630719244480133\n",
      "Similary between books and magazines is: 0.3969780504703522\n",
      "Similary between and and I is: -0.049598172307014465\n",
      "Similary between and and love is: -0.058314550668001175\n",
      "Similary between and and books is: 0.07630719244480133\n",
      "Similary between and and and is: 1.0\n",
      "Similary between and and magazines is: 0.1240670382976532\n",
      "Similary between magazines and I is: -0.07849150151014328\n",
      "Similary between magazines and love is: -0.13126049935817719\n",
      "Similary between magazines and books is: 0.3969780504703522\n",
      "Similary between magazines and and is: 0.1240670382976532\n",
      "Similary between magazines and magazines is: 1.0\n"
     ]
    },
    {
     "name": "stderr",
     "output_type": "stream",
     "text": [
      "/Users/inigoparra/opt/anaconda3/envs/tensorflow/lib/python3.7/site-packages/ipykernel_launcher.py:3: UserWarning: [W007] The model you're using has no word vectors loaded, so the result of the Token.similarity method will be based on the tagger, parser and NER, which may not give useful similarity judgements. This may happen if you're using one of the small models, e.g. `en_core_web_sm`, which don't ship with word vectors and only use context-sensitive tensors. You can always add your own word vectors, or use one of the larger models instead if available.\n",
      "  This is separate from the ipykernel package so we can avoid doing imports until\n"
     ]
    }
   ],
   "source": [
    "for token_a in doc:\n",
    "    for token_b in doc:\n",
    "        print(f'Similary between {token_a} and {token_b} is: {token_a.similarity(token_b)}')\n"
   ]
  },
  {
   "cell_type": "code",
   "execution_count": null,
   "metadata": {},
   "outputs": [],
   "source": []
  }
 ],
 "metadata": {
  "kernelspec": {
   "display_name": "Python 3",
   "language": "python",
   "name": "python3"
  },
  "language_info": {
   "codemirror_mode": {
    "name": "ipython",
    "version": 3
   },
   "file_extension": ".py",
   "mimetype": "text/x-python",
   "name": "python",
   "nbconvert_exporter": "python",
   "pygments_lexer": "ipython3",
   "version": "3.7.15"
  },
  "orig_nbformat": 4
 },
 "nbformat": 4,
 "nbformat_minor": 2
}
