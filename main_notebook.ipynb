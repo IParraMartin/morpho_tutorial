{
 "cells": [
  {
   "cell_type": "code",
   "execution_count": 4,
   "metadata": {},
   "outputs": [
    {
     "name": "stdout",
     "output_type": "stream",
     "text": [
      "Requirement already satisfied: spacy in /Users/inigoparra/opt/anaconda3/envs/tensorflow/lib/python3.7/site-packages (3.3.1)\n",
      "Requirement already satisfied: catalogue<2.1.0,>=2.0.6 in /Users/inigoparra/opt/anaconda3/envs/tensorflow/lib/python3.7/site-packages (from spacy) (2.0.7)\n",
      "Requirement already satisfied: tqdm<5.0.0,>=4.38.0 in /Users/inigoparra/opt/anaconda3/envs/tensorflow/lib/python3.7/site-packages (from spacy) (4.64.1)\n",
      "Requirement already satisfied: preshed<3.1.0,>=3.0.2 in /Users/inigoparra/opt/anaconda3/envs/tensorflow/lib/python3.7/site-packages (from spacy) (3.0.6)\n",
      "Requirement already satisfied: spacy-loggers<2.0.0,>=1.0.0 in /Users/inigoparra/opt/anaconda3/envs/tensorflow/lib/python3.7/site-packages (from spacy) (1.0.1)\n",
      "Requirement already satisfied: srsly<3.0.0,>=2.4.3 in /Users/inigoparra/opt/anaconda3/envs/tensorflow/lib/python3.7/site-packages (from spacy) (2.4.3)\n",
      "Requirement already satisfied: packaging>=20.0 in /Users/inigoparra/opt/anaconda3/envs/tensorflow/lib/python3.7/site-packages (from spacy) (22.0)\n",
      "Requirement already satisfied: numpy>=1.15.0 in /Users/inigoparra/opt/anaconda3/envs/tensorflow/lib/python3.7/site-packages (from spacy) (1.21.5)\n",
      "Requirement already satisfied: typing-extensions<4.2.0,>=3.7.4 in /Users/inigoparra/opt/anaconda3/envs/tensorflow/lib/python3.7/site-packages (from spacy) (3.10.0.2)\n",
      "Requirement already satisfied: langcodes<4.0.0,>=3.2.0 in /Users/inigoparra/opt/anaconda3/envs/tensorflow/lib/python3.7/site-packages (from spacy) (3.3.0)\n",
      "Requirement already satisfied: wasabi<1.1.0,>=0.9.1 in /Users/inigoparra/opt/anaconda3/envs/tensorflow/lib/python3.7/site-packages (from spacy) (0.9.1)\n",
      "Requirement already satisfied: murmurhash<1.1.0,>=0.28.0 in /Users/inigoparra/opt/anaconda3/envs/tensorflow/lib/python3.7/site-packages (from spacy) (1.0.7)\n",
      "Requirement already satisfied: requests<3.0.0,>=2.13.0 in /Users/inigoparra/opt/anaconda3/envs/tensorflow/lib/python3.7/site-packages (from spacy) (2.28.1)\n",
      "Requirement already satisfied: pydantic!=1.8,!=1.8.1,<1.9.0,>=1.7.4 in /Users/inigoparra/opt/anaconda3/envs/tensorflow/lib/python3.7/site-packages (from spacy) (1.8.2)\n",
      "Requirement already satisfied: cymem<2.1.0,>=2.0.2 in /Users/inigoparra/opt/anaconda3/envs/tensorflow/lib/python3.7/site-packages (from spacy) (2.0.6)\n",
      "Requirement already satisfied: thinc<8.1.0,>=8.0.14 in /Users/inigoparra/opt/anaconda3/envs/tensorflow/lib/python3.7/site-packages (from spacy) (8.0.15)\n",
      "Requirement already satisfied: pathy>=0.3.5 in /Users/inigoparra/opt/anaconda3/envs/tensorflow/lib/python3.7/site-packages (from spacy) (0.10.1)\n",
      "Requirement already satisfied: blis<0.8.0,>=0.4.0 in /Users/inigoparra/opt/anaconda3/envs/tensorflow/lib/python3.7/site-packages (from spacy) (0.7.7)\n",
      "Requirement already satisfied: jinja2 in /Users/inigoparra/opt/anaconda3/envs/tensorflow/lib/python3.7/site-packages (from spacy) (3.1.2)\n",
      "Requirement already satisfied: typer<0.5.0,>=0.3.0 in /Users/inigoparra/opt/anaconda3/envs/tensorflow/lib/python3.7/site-packages (from spacy) (0.4.1)\n",
      "Requirement already satisfied: spacy-legacy<3.1.0,>=3.0.9 in /Users/inigoparra/opt/anaconda3/envs/tensorflow/lib/python3.7/site-packages (from spacy) (3.0.9)\n",
      "Requirement already satisfied: setuptools in /Users/inigoparra/opt/anaconda3/envs/tensorflow/lib/python3.7/site-packages (from spacy) (65.6.3)\n",
      "Requirement already satisfied: zipp>=0.5 in /Users/inigoparra/opt/anaconda3/envs/tensorflow/lib/python3.7/site-packages (from catalogue<2.1.0,>=2.0.6->spacy) (3.11.0)\n",
      "Requirement already satisfied: smart-open<7.0.0,>=5.2.1 in /Users/inigoparra/opt/anaconda3/envs/tensorflow/lib/python3.7/site-packages (from pathy>=0.3.5->spacy) (5.2.1)\n",
      "Requirement already satisfied: certifi>=2017.4.17 in /Users/inigoparra/opt/anaconda3/envs/tensorflow/lib/python3.7/site-packages (from requests<3.0.0,>=2.13.0->spacy) (2022.12.7)\n",
      "Requirement already satisfied: charset-normalizer<3,>=2 in /Users/inigoparra/opt/anaconda3/envs/tensorflow/lib/python3.7/site-packages (from requests<3.0.0,>=2.13.0->spacy) (2.0.4)\n",
      "Requirement already satisfied: urllib3<1.27,>=1.21.1 in /Users/inigoparra/opt/anaconda3/envs/tensorflow/lib/python3.7/site-packages (from requests<3.0.0,>=2.13.0->spacy) (1.26.14)\n",
      "Requirement already satisfied: idna<4,>=2.5 in /Users/inigoparra/opt/anaconda3/envs/tensorflow/lib/python3.7/site-packages (from requests<3.0.0,>=2.13.0->spacy) (3.4)\n",
      "Requirement already satisfied: click<9.0.0,>=7.1.1 in /Users/inigoparra/opt/anaconda3/envs/tensorflow/lib/python3.7/site-packages (from typer<0.5.0,>=0.3.0->spacy) (8.0.4)\n",
      "Requirement already satisfied: MarkupSafe>=2.0 in /Users/inigoparra/opt/anaconda3/envs/tensorflow/lib/python3.7/site-packages (from jinja2->spacy) (2.1.1)\n",
      "Requirement already satisfied: importlib-metadata in /Users/inigoparra/opt/anaconda3/envs/tensorflow/lib/python3.7/site-packages (from click<9.0.0,>=7.1.1->typer<0.5.0,>=0.3.0->spacy) (4.11.3)\n",
      "Note: you may need to restart the kernel to use updated packages.\n"
     ]
    }
   ],
   "source": [
    "!pip install spacy"
   ]
  },
  {
   "cell_type": "code",
   "execution_count": 7,
   "metadata": {},
   "outputs": [
    {
     "name": "stdout",
     "output_type": "stream",
     "text": [
      "2023-11-12 10:14:31.810797: I tensorflow/core/platform/cpu_feature_guard.cc:193] This TensorFlow binary is optimized with oneAPI Deep Neural Network Library (oneDNN) to use the following CPU instructions in performance-critical operations:  SSE4.1 SSE4.2\n",
      "To enable them in other operations, rebuild TensorFlow with the appropriate compiler flags.\n",
      "Using TensorFlow backend.\n",
      "Collecting es-core-news-sm==3.3.0\n",
      "  Downloading https://github.com/explosion/spacy-models/releases/download/es_core_news_sm-3.3.0/es_core_news_sm-3.3.0-py3-none-any.whl (12.9 MB)\n",
      "\u001b[2K     \u001b[90m━━━━━━━━━━━━━━━━━━━━━━━━━━━━━━━━━━━━━━━━\u001b[0m \u001b[32m12.9/12.9 MB\u001b[0m \u001b[31m13.1 MB/s\u001b[0m eta \u001b[36m0:00:00\u001b[0m00:01\u001b[0m00:01\u001b[0m\n",
      "\u001b[?25hRequirement already satisfied: spacy<3.4.0,>=3.3.0.dev0 in /Users/inigoparra/opt/anaconda3/envs/tensorflow/lib/python3.7/site-packages (from es-core-news-sm==3.3.0) (3.3.1)\n",
      "Requirement already satisfied: blis<0.8.0,>=0.4.0 in /Users/inigoparra/opt/anaconda3/envs/tensorflow/lib/python3.7/site-packages (from spacy<3.4.0,>=3.3.0.dev0->es-core-news-sm==3.3.0) (0.7.7)\n",
      "Requirement already satisfied: setuptools in /Users/inigoparra/opt/anaconda3/envs/tensorflow/lib/python3.7/site-packages (from spacy<3.4.0,>=3.3.0.dev0->es-core-news-sm==3.3.0) (65.6.3)\n",
      "Requirement already satisfied: packaging>=20.0 in /Users/inigoparra/opt/anaconda3/envs/tensorflow/lib/python3.7/site-packages (from spacy<3.4.0,>=3.3.0.dev0->es-core-news-sm==3.3.0) (22.0)\n",
      "Requirement already satisfied: wasabi<1.1.0,>=0.9.1 in /Users/inigoparra/opt/anaconda3/envs/tensorflow/lib/python3.7/site-packages (from spacy<3.4.0,>=3.3.0.dev0->es-core-news-sm==3.3.0) (0.9.1)\n",
      "Requirement already satisfied: requests<3.0.0,>=2.13.0 in /Users/inigoparra/opt/anaconda3/envs/tensorflow/lib/python3.7/site-packages (from spacy<3.4.0,>=3.3.0.dev0->es-core-news-sm==3.3.0) (2.28.1)\n",
      "Requirement already satisfied: spacy-loggers<2.0.0,>=1.0.0 in /Users/inigoparra/opt/anaconda3/envs/tensorflow/lib/python3.7/site-packages (from spacy<3.4.0,>=3.3.0.dev0->es-core-news-sm==3.3.0) (1.0.1)\n",
      "Requirement already satisfied: typing-extensions<4.2.0,>=3.7.4 in /Users/inigoparra/opt/anaconda3/envs/tensorflow/lib/python3.7/site-packages (from spacy<3.4.0,>=3.3.0.dev0->es-core-news-sm==3.3.0) (3.10.0.2)\n",
      "Requirement already satisfied: numpy>=1.15.0 in /Users/inigoparra/opt/anaconda3/envs/tensorflow/lib/python3.7/site-packages (from spacy<3.4.0,>=3.3.0.dev0->es-core-news-sm==3.3.0) (1.21.5)\n",
      "Requirement already satisfied: jinja2 in /Users/inigoparra/opt/anaconda3/envs/tensorflow/lib/python3.7/site-packages (from spacy<3.4.0,>=3.3.0.dev0->es-core-news-sm==3.3.0) (3.1.2)\n",
      "Requirement already satisfied: srsly<3.0.0,>=2.4.3 in /Users/inigoparra/opt/anaconda3/envs/tensorflow/lib/python3.7/site-packages (from spacy<3.4.0,>=3.3.0.dev0->es-core-news-sm==3.3.0) (2.4.3)\n",
      "Requirement already satisfied: catalogue<2.1.0,>=2.0.6 in /Users/inigoparra/opt/anaconda3/envs/tensorflow/lib/python3.7/site-packages (from spacy<3.4.0,>=3.3.0.dev0->es-core-news-sm==3.3.0) (2.0.7)\n",
      "Requirement already satisfied: thinc<8.1.0,>=8.0.14 in /Users/inigoparra/opt/anaconda3/envs/tensorflow/lib/python3.7/site-packages (from spacy<3.4.0,>=3.3.0.dev0->es-core-news-sm==3.3.0) (8.0.15)\n",
      "Requirement already satisfied: typer<0.5.0,>=0.3.0 in /Users/inigoparra/opt/anaconda3/envs/tensorflow/lib/python3.7/site-packages (from spacy<3.4.0,>=3.3.0.dev0->es-core-news-sm==3.3.0) (0.4.1)\n",
      "Requirement already satisfied: cymem<2.1.0,>=2.0.2 in /Users/inigoparra/opt/anaconda3/envs/tensorflow/lib/python3.7/site-packages (from spacy<3.4.0,>=3.3.0.dev0->es-core-news-sm==3.3.0) (2.0.6)\n",
      "Requirement already satisfied: pathy>=0.3.5 in /Users/inigoparra/opt/anaconda3/envs/tensorflow/lib/python3.7/site-packages (from spacy<3.4.0,>=3.3.0.dev0->es-core-news-sm==3.3.0) (0.10.1)\n",
      "Requirement already satisfied: preshed<3.1.0,>=3.0.2 in /Users/inigoparra/opt/anaconda3/envs/tensorflow/lib/python3.7/site-packages (from spacy<3.4.0,>=3.3.0.dev0->es-core-news-sm==3.3.0) (3.0.6)\n",
      "Requirement already satisfied: tqdm<5.0.0,>=4.38.0 in /Users/inigoparra/opt/anaconda3/envs/tensorflow/lib/python3.7/site-packages (from spacy<3.4.0,>=3.3.0.dev0->es-core-news-sm==3.3.0) (4.64.1)\n",
      "Requirement already satisfied: langcodes<4.0.0,>=3.2.0 in /Users/inigoparra/opt/anaconda3/envs/tensorflow/lib/python3.7/site-packages (from spacy<3.4.0,>=3.3.0.dev0->es-core-news-sm==3.3.0) (3.3.0)\n",
      "Requirement already satisfied: murmurhash<1.1.0,>=0.28.0 in /Users/inigoparra/opt/anaconda3/envs/tensorflow/lib/python3.7/site-packages (from spacy<3.4.0,>=3.3.0.dev0->es-core-news-sm==3.3.0) (1.0.7)\n",
      "Requirement already satisfied: spacy-legacy<3.1.0,>=3.0.9 in /Users/inigoparra/opt/anaconda3/envs/tensorflow/lib/python3.7/site-packages (from spacy<3.4.0,>=3.3.0.dev0->es-core-news-sm==3.3.0) (3.0.9)\n",
      "Requirement already satisfied: pydantic!=1.8,!=1.8.1,<1.9.0,>=1.7.4 in /Users/inigoparra/opt/anaconda3/envs/tensorflow/lib/python3.7/site-packages (from spacy<3.4.0,>=3.3.0.dev0->es-core-news-sm==3.3.0) (1.8.2)\n",
      "Requirement already satisfied: zipp>=0.5 in /Users/inigoparra/opt/anaconda3/envs/tensorflow/lib/python3.7/site-packages (from catalogue<2.1.0,>=2.0.6->spacy<3.4.0,>=3.3.0.dev0->es-core-news-sm==3.3.0) (3.11.0)\n",
      "Requirement already satisfied: smart-open<7.0.0,>=5.2.1 in /Users/inigoparra/opt/anaconda3/envs/tensorflow/lib/python3.7/site-packages (from pathy>=0.3.5->spacy<3.4.0,>=3.3.0.dev0->es-core-news-sm==3.3.0) (5.2.1)\n",
      "Requirement already satisfied: charset-normalizer<3,>=2 in /Users/inigoparra/opt/anaconda3/envs/tensorflow/lib/python3.7/site-packages (from requests<3.0.0,>=2.13.0->spacy<3.4.0,>=3.3.0.dev0->es-core-news-sm==3.3.0) (2.0.4)\n",
      "Requirement already satisfied: certifi>=2017.4.17 in /Users/inigoparra/opt/anaconda3/envs/tensorflow/lib/python3.7/site-packages (from requests<3.0.0,>=2.13.0->spacy<3.4.0,>=3.3.0.dev0->es-core-news-sm==3.3.0) (2022.12.7)\n",
      "Requirement already satisfied: urllib3<1.27,>=1.21.1 in /Users/inigoparra/opt/anaconda3/envs/tensorflow/lib/python3.7/site-packages (from requests<3.0.0,>=2.13.0->spacy<3.4.0,>=3.3.0.dev0->es-core-news-sm==3.3.0) (1.26.14)\n",
      "Requirement already satisfied: idna<4,>=2.5 in /Users/inigoparra/opt/anaconda3/envs/tensorflow/lib/python3.7/site-packages (from requests<3.0.0,>=2.13.0->spacy<3.4.0,>=3.3.0.dev0->es-core-news-sm==3.3.0) (3.4)\n",
      "Requirement already satisfied: click<9.0.0,>=7.1.1 in /Users/inigoparra/opt/anaconda3/envs/tensorflow/lib/python3.7/site-packages (from typer<0.5.0,>=0.3.0->spacy<3.4.0,>=3.3.0.dev0->es-core-news-sm==3.3.0) (8.0.4)\n",
      "Requirement already satisfied: MarkupSafe>=2.0 in /Users/inigoparra/opt/anaconda3/envs/tensorflow/lib/python3.7/site-packages (from jinja2->spacy<3.4.0,>=3.3.0.dev0->es-core-news-sm==3.3.0) (2.1.1)\n",
      "Requirement already satisfied: importlib-metadata in /Users/inigoparra/opt/anaconda3/envs/tensorflow/lib/python3.7/site-packages (from click<9.0.0,>=7.1.1->typer<0.5.0,>=0.3.0->spacy<3.4.0,>=3.3.0.dev0->es-core-news-sm==3.3.0) (4.11.3)\n",
      "Installing collected packages: es-core-news-sm\n",
      "  Attempting uninstall: es-core-news-sm\n",
      "    Found existing installation: es-core-news-sm 3.1.0\n",
      "    Uninstalling es-core-news-sm-3.1.0:\n",
      "      Successfully uninstalled es-core-news-sm-3.1.0\n",
      "Successfully installed es-core-news-sm-3.3.0\n",
      "\u001b[38;5;2m✔ Download and installation successful\u001b[0m\n",
      "You can now load the package via spacy.load('es_core_news_sm')\n"
     ]
    }
   ],
   "source": [
    "!python -m spacy download es_core_news_sm"
   ]
  },
  {
   "cell_type": "code",
   "execution_count": 6,
   "metadata": {},
   "outputs": [
    {
     "name": "stderr",
     "output_type": "stream",
     "text": [
      "/Users/inigoparra/opt/anaconda3/envs/tensorflow/lib/python3.7/site-packages/tqdm/auto.py:22: TqdmWarning: IProgress not found. Please update jupyter and ipywidgets. See https://ipywidgets.readthedocs.io/en/stable/user_install.html\n",
      "  from .autonotebook import tqdm as notebook_tqdm\n",
      "2023-11-12 10:11:47.885169: I tensorflow/core/platform/cpu_feature_guard.cc:193] This TensorFlow binary is optimized with oneAPI Deep Neural Network Library (oneDNN) to use the following CPU instructions in performance-critical operations:  SSE4.1 SSE4.2\n",
      "To enable them in other operations, rebuild TensorFlow with the appropriate compiler flags.\n",
      "Using TensorFlow backend.\n"
     ]
    }
   ],
   "source": [
    "import spacy"
   ]
  },
  {
   "cell_type": "code",
   "execution_count": 38,
   "metadata": {},
   "outputs": [],
   "source": [
    "# load the English model\n",
    "nlp = spacy.load('en_core_web_sm')\n",
    "# set the text to analyze\n",
    "doc = nlp(\"Don Quixote and Sancho ran to the store taking the map.\")"
   ]
  },
  {
   "cell_type": "code",
   "execution_count": null,
   "metadata": {},
   "outputs": [],
   "source": [
    "# try different attributes\n",
    "for token in doc:\n",
    "    print(token.text, \n",
    "          token.lemma_, \n",
    "          token.pos_, \n",
    "          token.tag_, \n",
    "          token.dep_, \n",
    "          token.morph\n",
    "          )\n"
   ]
  },
  {
   "cell_type": "code",
   "execution_count": 20,
   "metadata": {},
   "outputs": [
    {
     "data": {
      "text/html": [
       "<span class=\"tex2jax_ignore\"><div class=\"entities\" style=\"line-height: 2.5; direction: ltr\">\n",
       "<mark class=\"entity\" style=\"background: #aa9cfc; padding: 0.45em 0.6em; margin: 0 0.25em; line-height: 1; border-radius: 0.35em;\">\n",
       "    Don Quixote\n",
       "    <span style=\"font-size: 0.8em; font-weight: bold; line-height: 1; border-radius: 0.35em; vertical-align: middle; margin-left: 0.5rem\">PERSON</span>\n",
       "</mark>\n",
       " and \n",
       "<mark class=\"entity\" style=\"background: #feca74; padding: 0.45em 0.6em; margin: 0 0.25em; line-height: 1; border-radius: 0.35em;\">\n",
       "    Sancho\n",
       "    <span style=\"font-size: 0.8em; font-weight: bold; line-height: 1; border-radius: 0.35em; vertical-align: middle; margin-left: 0.5rem\">GPE</span>\n",
       "</mark>\n",
       " ran to the store.</div></span>"
      ],
      "text/plain": [
       "<IPython.core.display.HTML object>"
      ]
     },
     "metadata": {},
     "output_type": "display_data"
    }
   ],
   "source": [
    "# try named entity recognition\n",
    "spacy.displacy.render(doc, \n",
    "                      style='ent', \n",
    "                      jupyter=True)"
   ]
  },
  {
   "cell_type": "code",
   "execution_count": null,
   "metadata": {},
   "outputs": [],
   "source": [
    "spacy.displacy.render(doc, \n",
    "                      style='dep', \n",
    "                      jupyter=True)"
   ]
  },
  {
   "cell_type": "code",
   "execution_count": null,
   "metadata": {},
   "outputs": [],
   "source": [
    "for token_a in doc:\n",
    "    for token_b in doc:\n",
    "        print(f'Similarity between \"{token_a}\" and \"{token_b}\" is: {token_a.similarity(token_b)}')"
   ]
  },
  {
   "cell_type": "code",
   "execution_count": 44,
   "metadata": {},
   "outputs": [
    {
     "name": "stdout",
     "output_type": "stream",
     "text": [
      "[['ran', 'VERB', Tense=Past|VerbForm=Fin], ['taking', 'VERB', Aspect=Prog|Tense=Pres|VerbForm=Part]]\n"
     ]
    }
   ],
   "source": [
    "# get the verbs and their morph to analyze actions\n",
    "pos_tag = [[token.text, token.pos_, token.morph] for token in doc if token.pos_ != 'PUNCT' and token.pos_ == 'VERB']\n",
    "print(pos_tag)"
   ]
  },
  {
   "cell_type": "code",
   "execution_count": 46,
   "metadata": {},
   "outputs": [],
   "source": [
    "# define a function to extract the similarities into a csv file\n",
    "def get_similarities(doc):\n",
    "    similarities = []\n",
    "    for token_a in doc:\n",
    "        for token_b in doc:\n",
    "            similarities.append([token_a, token_b, token_a.similarity(token_b)])\n",
    "    return similarities"
   ]
  },
  {
   "cell_type": "code",
   "execution_count": 47,
   "metadata": {},
   "outputs": [
    {
     "name": "stderr",
     "output_type": "stream",
     "text": [
      "/Users/inigoparra/opt/anaconda3/envs/tensorflow/lib/python3.7/site-packages/ipykernel_launcher.py:6: UserWarning: [W007] The model you're using has no word vectors loaded, so the result of the Token.similarity method will be based on the tagger, parser and NER, which may not give useful similarity judgements. This may happen if you're using one of the small models, e.g. `en_core_web_sm`, which don't ship with word vectors and only use context-sensitive tensors. You can always add your own word vectors, or use one of the larger models instead if available.\n",
      "  \n"
     ]
    }
   ],
   "source": [
    "# create a csv file with the similarities\n",
    "import csv\n",
    "with open('don_quixote.csv', 'w') as f:\n",
    "    writer = csv.writer(f)\n",
    "    for i in get_similarities(doc):\n",
    "        writer.writerow(i)"
   ]
  }
 ],
 "metadata": {
  "kernelspec": {
   "display_name": "Python 3",
   "language": "python",
   "name": "python3"
  },
  "language_info": {
   "codemirror_mode": {
    "name": "ipython",
    "version": 3
   },
   "file_extension": ".py",
   "mimetype": "text/x-python",
   "name": "python",
   "nbconvert_exporter": "python",
   "pygments_lexer": "ipython3",
   "version": "3.7.15"
  },
  "orig_nbformat": 4
 },
 "nbformat": 4,
 "nbformat_minor": 2
}
