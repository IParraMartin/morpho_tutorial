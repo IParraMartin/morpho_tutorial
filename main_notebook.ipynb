{
 "cells": [
  {
   "cell_type": "code",
   "execution_count": 1,
   "metadata": {},
   "outputs": [
    {
     "name": "stdout",
     "output_type": "stream",
     "text": [
      "Requirement already satisfied: spacy in /Users/inigoparra/opt/anaconda3/envs/tensorflow/lib/python3.7/site-packages (3.3.1)\n",
      "Requirement already satisfied: spacy-loggers<2.0.0,>=1.0.0 in /Users/inigoparra/opt/anaconda3/envs/tensorflow/lib/python3.7/site-packages (from spacy) (1.0.1)\n",
      "Requirement already satisfied: pydantic!=1.8,!=1.8.1,<1.9.0,>=1.7.4 in /Users/inigoparra/opt/anaconda3/envs/tensorflow/lib/python3.7/site-packages (from spacy) (1.8.2)\n",
      "Requirement already satisfied: catalogue<2.1.0,>=2.0.6 in /Users/inigoparra/opt/anaconda3/envs/tensorflow/lib/python3.7/site-packages (from spacy) (2.0.7)\n",
      "Requirement already satisfied: requests<3.0.0,>=2.13.0 in /Users/inigoparra/opt/anaconda3/envs/tensorflow/lib/python3.7/site-packages (from spacy) (2.28.1)\n",
      "Requirement already satisfied: cymem<2.1.0,>=2.0.2 in /Users/inigoparra/opt/anaconda3/envs/tensorflow/lib/python3.7/site-packages (from spacy) (2.0.6)\n",
      "Requirement already satisfied: thinc<8.1.0,>=8.0.14 in /Users/inigoparra/opt/anaconda3/envs/tensorflow/lib/python3.7/site-packages (from spacy) (8.0.15)\n",
      "Requirement already satisfied: jinja2 in /Users/inigoparra/opt/anaconda3/envs/tensorflow/lib/python3.7/site-packages (from spacy) (3.1.2)\n",
      "Requirement already satisfied: typing-extensions<4.2.0,>=3.7.4 in /Users/inigoparra/opt/anaconda3/envs/tensorflow/lib/python3.7/site-packages (from spacy) (3.10.0.2)\n",
      "Requirement already satisfied: langcodes<4.0.0,>=3.2.0 in /Users/inigoparra/opt/anaconda3/envs/tensorflow/lib/python3.7/site-packages (from spacy) (3.3.0)\n",
      "Requirement already satisfied: tqdm<5.0.0,>=4.38.0 in /Users/inigoparra/opt/anaconda3/envs/tensorflow/lib/python3.7/site-packages (from spacy) (4.64.1)\n",
      "Requirement already satisfied: wasabi<1.1.0,>=0.9.1 in /Users/inigoparra/opt/anaconda3/envs/tensorflow/lib/python3.7/site-packages (from spacy) (0.9.1)\n",
      "Requirement already satisfied: srsly<3.0.0,>=2.4.3 in /Users/inigoparra/opt/anaconda3/envs/tensorflow/lib/python3.7/site-packages (from spacy) (2.4.3)\n",
      "Requirement already satisfied: typer<0.5.0,>=0.3.0 in /Users/inigoparra/opt/anaconda3/envs/tensorflow/lib/python3.7/site-packages (from spacy) (0.4.1)\n",
      "Requirement already satisfied: setuptools in /Users/inigoparra/opt/anaconda3/envs/tensorflow/lib/python3.7/site-packages (from spacy) (65.6.3)\n",
      "Requirement already satisfied: murmurhash<1.1.0,>=0.28.0 in /Users/inigoparra/opt/anaconda3/envs/tensorflow/lib/python3.7/site-packages (from spacy) (1.0.7)\n",
      "Requirement already satisfied: preshed<3.1.0,>=3.0.2 in /Users/inigoparra/opt/anaconda3/envs/tensorflow/lib/python3.7/site-packages (from spacy) (3.0.6)\n",
      "Requirement already satisfied: pathy>=0.3.5 in /Users/inigoparra/opt/anaconda3/envs/tensorflow/lib/python3.7/site-packages (from spacy) (0.10.1)\n",
      "Requirement already satisfied: numpy>=1.15.0 in /Users/inigoparra/opt/anaconda3/envs/tensorflow/lib/python3.7/site-packages (from spacy) (1.21.5)\n",
      "Requirement already satisfied: blis<0.8.0,>=0.4.0 in /Users/inigoparra/opt/anaconda3/envs/tensorflow/lib/python3.7/site-packages (from spacy) (0.7.7)\n",
      "Requirement already satisfied: spacy-legacy<3.1.0,>=3.0.9 in /Users/inigoparra/opt/anaconda3/envs/tensorflow/lib/python3.7/site-packages (from spacy) (3.0.9)\n",
      "Requirement already satisfied: packaging>=20.0 in /Users/inigoparra/opt/anaconda3/envs/tensorflow/lib/python3.7/site-packages (from spacy) (22.0)\n",
      "Requirement already satisfied: zipp>=0.5 in /Users/inigoparra/opt/anaconda3/envs/tensorflow/lib/python3.7/site-packages (from catalogue<2.1.0,>=2.0.6->spacy) (3.11.0)\n",
      "Requirement already satisfied: smart-open<7.0.0,>=5.2.1 in /Users/inigoparra/opt/anaconda3/envs/tensorflow/lib/python3.7/site-packages (from pathy>=0.3.5->spacy) (5.2.1)\n",
      "Requirement already satisfied: certifi>=2017.4.17 in /Users/inigoparra/opt/anaconda3/envs/tensorflow/lib/python3.7/site-packages (from requests<3.0.0,>=2.13.0->spacy) (2022.12.7)\n",
      "Requirement already satisfied: urllib3<1.27,>=1.21.1 in /Users/inigoparra/opt/anaconda3/envs/tensorflow/lib/python3.7/site-packages (from requests<3.0.0,>=2.13.0->spacy) (1.26.14)\n",
      "Requirement already satisfied: idna<4,>=2.5 in /Users/inigoparra/opt/anaconda3/envs/tensorflow/lib/python3.7/site-packages (from requests<3.0.0,>=2.13.0->spacy) (3.4)\n",
      "Requirement already satisfied: charset-normalizer<3,>=2 in /Users/inigoparra/opt/anaconda3/envs/tensorflow/lib/python3.7/site-packages (from requests<3.0.0,>=2.13.0->spacy) (2.0.4)\n",
      "Requirement already satisfied: click<9.0.0,>=7.1.1 in /Users/inigoparra/opt/anaconda3/envs/tensorflow/lib/python3.7/site-packages (from typer<0.5.0,>=0.3.0->spacy) (8.0.4)\n",
      "Requirement already satisfied: MarkupSafe>=2.0 in /Users/inigoparra/opt/anaconda3/envs/tensorflow/lib/python3.7/site-packages (from jinja2->spacy) (2.1.1)\n",
      "Requirement already satisfied: importlib-metadata in /Users/inigoparra/opt/anaconda3/envs/tensorflow/lib/python3.7/site-packages (from click<9.0.0,>=7.1.1->typer<0.5.0,>=0.3.0->spacy) (4.11.3)\n",
      "Note: you may need to restart the kernel to use updated packages.\n"
     ]
    }
   ],
   "source": [
    "pip install spacy"
   ]
  },
  {
   "cell_type": "code",
   "execution_count": 2,
   "metadata": {},
   "outputs": [
    {
     "name": "stderr",
     "output_type": "stream",
     "text": [
      "/Users/inigoparra/opt/anaconda3/envs/tensorflow/lib/python3.7/site-packages/tqdm/auto.py:22: TqdmWarning: IProgress not found. Please update jupyter and ipywidgets. See https://ipywidgets.readthedocs.io/en/stable/user_install.html\n",
      "  from .autonotebook import tqdm as notebook_tqdm\n",
      "2023-07-30 11:00:05.029813: I tensorflow/core/platform/cpu_feature_guard.cc:193] This TensorFlow binary is optimized with oneAPI Deep Neural Network Library (oneDNN) to use the following CPU instructions in performance-critical operations:  SSE4.1 SSE4.2\n",
      "To enable them in other operations, rebuild TensorFlow with the appropriate compiler flags.\n",
      "Using TensorFlow backend.\n"
     ]
    }
   ],
   "source": [
    "import spacy"
   ]
  },
  {
   "cell_type": "code",
   "execution_count": 3,
   "metadata": {},
   "outputs": [],
   "source": [
    "nlp = spacy.load('en_core_web_sm')"
   ]
  },
  {
   "cell_type": "code",
   "execution_count": 5,
   "metadata": {},
   "outputs": [],
   "source": [
    "doc = nlp(\"Apple's CEO Tim Cooke studied at Auburn\")"
   ]
  },
  {
   "cell_type": "code",
   "execution_count": 6,
   "metadata": {},
   "outputs": [
    {
     "name": "stdout",
     "output_type": "stream",
     "text": [
      "Apple Apple PROPN NNP poss Number=Sing\n",
      "'s 's PART POS case \n",
      "CEO ceo NOUN NN compound Number=Sing\n",
      "Tim Tim PROPN NNP compound Number=Sing\n",
      "Cooke Cooke PROPN NNP nsubj Number=Sing\n",
      "studied study VERB VBD ROOT Tense=Past|VerbForm=Fin\n",
      "at at ADP IN prep \n",
      "Auburn Auburn PROPN NNP pobj Number=Sing\n"
     ]
    }
   ],
   "source": [
    "for token in doc:\n",
    "    print(token.text, \n",
    "          token.lemma_, \n",
    "          token.pos_, \n",
    "          token.tag_, \n",
    "          token.dep_, \n",
    "          token.morph\n",
    "          )\n"
   ]
  },
  {
   "cell_type": "code",
   "execution_count": 8,
   "metadata": {},
   "outputs": [
    {
     "data": {
      "text/html": [
       "<span class=\"tex2jax_ignore\"><div class=\"entities\" style=\"line-height: 2.5; direction: ltr\">\n",
       "<mark class=\"entity\" style=\"background: #7aecec; padding: 0.45em 0.6em; margin: 0 0.25em; line-height: 1; border-radius: 0.35em;\">\n",
       "    Apple\n",
       "    <span style=\"font-size: 0.8em; font-weight: bold; line-height: 1; border-radius: 0.35em; vertical-align: middle; margin-left: 0.5rem\">ORG</span>\n",
       "</mark>\n",
       "'s CEO \n",
       "<mark class=\"entity\" style=\"background: #aa9cfc; padding: 0.45em 0.6em; margin: 0 0.25em; line-height: 1; border-radius: 0.35em;\">\n",
       "    Tim Cooke\n",
       "    <span style=\"font-size: 0.8em; font-weight: bold; line-height: 1; border-radius: 0.35em; vertical-align: middle; margin-left: 0.5rem\">PERSON</span>\n",
       "</mark>\n",
       " studied at \n",
       "<mark class=\"entity\" style=\"background: #7aecec; padding: 0.45em 0.6em; margin: 0 0.25em; line-height: 1; border-radius: 0.35em;\">\n",
       "    Auburn\n",
       "    <span style=\"font-size: 0.8em; font-weight: bold; line-height: 1; border-radius: 0.35em; vertical-align: middle; margin-left: 0.5rem\">ORG</span>\n",
       "</mark>\n",
       "</div></span>"
      ],
      "text/plain": [
       "<IPython.core.display.HTML object>"
      ]
     },
     "metadata": {},
     "output_type": "display_data"
    }
   ],
   "source": [
    "spacy.displacy.render(doc, style='ent', jupyter=True)"
   ]
  },
  {
   "cell_type": "code",
   "execution_count": 12,
   "metadata": {},
   "outputs": [
    {
     "data": {
      "text/html": [
       "<span class=\"tex2jax_ignore\"><svg xmlns=\"http://www.w3.org/2000/svg\" xmlns:xlink=\"http://www.w3.org/1999/xlink\" xml:lang=\"en\" id=\"83f8875dda61462b98a54960161a04bf-0\" class=\"displacy\" width=\"1450\" height=\"312.0\" direction=\"ltr\" style=\"max-width: none; height: 312.0px; color: #000000; background: #ffffff; font-family: Arial; direction: ltr\">\n",
       "<text class=\"displacy-token\" fill=\"currentColor\" text-anchor=\"middle\" y=\"222.0\">\n",
       "    <tspan class=\"displacy-word\" fill=\"currentColor\" x=\"50\">Apple</tspan>\n",
       "    <tspan class=\"displacy-tag\" dy=\"2em\" fill=\"currentColor\" x=\"50\">PROPN</tspan>\n",
       "</text>\n",
       "\n",
       "<text class=\"displacy-token\" fill=\"currentColor\" text-anchor=\"middle\" y=\"222.0\">\n",
       "    <tspan class=\"displacy-word\" fill=\"currentColor\" x=\"225\">'s</tspan>\n",
       "    <tspan class=\"displacy-tag\" dy=\"2em\" fill=\"currentColor\" x=\"225\">PART</tspan>\n",
       "</text>\n",
       "\n",
       "<text class=\"displacy-token\" fill=\"currentColor\" text-anchor=\"middle\" y=\"222.0\">\n",
       "    <tspan class=\"displacy-word\" fill=\"currentColor\" x=\"400\">CEO</tspan>\n",
       "    <tspan class=\"displacy-tag\" dy=\"2em\" fill=\"currentColor\" x=\"400\">NOUN</tspan>\n",
       "</text>\n",
       "\n",
       "<text class=\"displacy-token\" fill=\"currentColor\" text-anchor=\"middle\" y=\"222.0\">\n",
       "    <tspan class=\"displacy-word\" fill=\"currentColor\" x=\"575\">Tim</tspan>\n",
       "    <tspan class=\"displacy-tag\" dy=\"2em\" fill=\"currentColor\" x=\"575\">PROPN</tspan>\n",
       "</text>\n",
       "\n",
       "<text class=\"displacy-token\" fill=\"currentColor\" text-anchor=\"middle\" y=\"222.0\">\n",
       "    <tspan class=\"displacy-word\" fill=\"currentColor\" x=\"750\">Cooke</tspan>\n",
       "    <tspan class=\"displacy-tag\" dy=\"2em\" fill=\"currentColor\" x=\"750\">PROPN</tspan>\n",
       "</text>\n",
       "\n",
       "<text class=\"displacy-token\" fill=\"currentColor\" text-anchor=\"middle\" y=\"222.0\">\n",
       "    <tspan class=\"displacy-word\" fill=\"currentColor\" x=\"925\">studied</tspan>\n",
       "    <tspan class=\"displacy-tag\" dy=\"2em\" fill=\"currentColor\" x=\"925\">VERB</tspan>\n",
       "</text>\n",
       "\n",
       "<text class=\"displacy-token\" fill=\"currentColor\" text-anchor=\"middle\" y=\"222.0\">\n",
       "    <tspan class=\"displacy-word\" fill=\"currentColor\" x=\"1100\">at</tspan>\n",
       "    <tspan class=\"displacy-tag\" dy=\"2em\" fill=\"currentColor\" x=\"1100\">ADP</tspan>\n",
       "</text>\n",
       "\n",
       "<text class=\"displacy-token\" fill=\"currentColor\" text-anchor=\"middle\" y=\"222.0\">\n",
       "    <tspan class=\"displacy-word\" fill=\"currentColor\" x=\"1275\">Auburn</tspan>\n",
       "    <tspan class=\"displacy-tag\" dy=\"2em\" fill=\"currentColor\" x=\"1275\">PROPN</tspan>\n",
       "</text>\n",
       "\n",
       "<g class=\"displacy-arrow\">\n",
       "    <path class=\"displacy-arc\" id=\"arrow-83f8875dda61462b98a54960161a04bf-0-0\" stroke-width=\"2px\" d=\"M70,177.0 C70,2.0 400.0,2.0 400.0,177.0\" fill=\"none\" stroke=\"currentColor\"/>\n",
       "    <text dy=\"1.25em\" style=\"font-size: 0.8em; letter-spacing: 1px\">\n",
       "        <textPath xlink:href=\"#arrow-83f8875dda61462b98a54960161a04bf-0-0\" class=\"displacy-label\" startOffset=\"50%\" side=\"left\" fill=\"currentColor\" text-anchor=\"middle\">poss</textPath>\n",
       "    </text>\n",
       "    <path class=\"displacy-arrowhead\" d=\"M70,179.0 L62,167.0 78,167.0\" fill=\"currentColor\"/>\n",
       "</g>\n",
       "\n",
       "<g class=\"displacy-arrow\">\n",
       "    <path class=\"displacy-arc\" id=\"arrow-83f8875dda61462b98a54960161a04bf-0-1\" stroke-width=\"2px\" d=\"M70,177.0 C70,89.5 220.0,89.5 220.0,177.0\" fill=\"none\" stroke=\"currentColor\"/>\n",
       "    <text dy=\"1.25em\" style=\"font-size: 0.8em; letter-spacing: 1px\">\n",
       "        <textPath xlink:href=\"#arrow-83f8875dda61462b98a54960161a04bf-0-1\" class=\"displacy-label\" startOffset=\"50%\" side=\"left\" fill=\"currentColor\" text-anchor=\"middle\">case</textPath>\n",
       "    </text>\n",
       "    <path class=\"displacy-arrowhead\" d=\"M220.0,179.0 L228.0,167.0 212.0,167.0\" fill=\"currentColor\"/>\n",
       "</g>\n",
       "\n",
       "<g class=\"displacy-arrow\">\n",
       "    <path class=\"displacy-arc\" id=\"arrow-83f8875dda61462b98a54960161a04bf-0-2\" stroke-width=\"2px\" d=\"M420,177.0 C420,2.0 750.0,2.0 750.0,177.0\" fill=\"none\" stroke=\"currentColor\"/>\n",
       "    <text dy=\"1.25em\" style=\"font-size: 0.8em; letter-spacing: 1px\">\n",
       "        <textPath xlink:href=\"#arrow-83f8875dda61462b98a54960161a04bf-0-2\" class=\"displacy-label\" startOffset=\"50%\" side=\"left\" fill=\"currentColor\" text-anchor=\"middle\">compound</textPath>\n",
       "    </text>\n",
       "    <path class=\"displacy-arrowhead\" d=\"M420,179.0 L412,167.0 428,167.0\" fill=\"currentColor\"/>\n",
       "</g>\n",
       "\n",
       "<g class=\"displacy-arrow\">\n",
       "    <path class=\"displacy-arc\" id=\"arrow-83f8875dda61462b98a54960161a04bf-0-3\" stroke-width=\"2px\" d=\"M595,177.0 C595,89.5 745.0,89.5 745.0,177.0\" fill=\"none\" stroke=\"currentColor\"/>\n",
       "    <text dy=\"1.25em\" style=\"font-size: 0.8em; letter-spacing: 1px\">\n",
       "        <textPath xlink:href=\"#arrow-83f8875dda61462b98a54960161a04bf-0-3\" class=\"displacy-label\" startOffset=\"50%\" side=\"left\" fill=\"currentColor\" text-anchor=\"middle\">compound</textPath>\n",
       "    </text>\n",
       "    <path class=\"displacy-arrowhead\" d=\"M595,179.0 L587,167.0 603,167.0\" fill=\"currentColor\"/>\n",
       "</g>\n",
       "\n",
       "<g class=\"displacy-arrow\">\n",
       "    <path class=\"displacy-arc\" id=\"arrow-83f8875dda61462b98a54960161a04bf-0-4\" stroke-width=\"2px\" d=\"M770,177.0 C770,89.5 920.0,89.5 920.0,177.0\" fill=\"none\" stroke=\"currentColor\"/>\n",
       "    <text dy=\"1.25em\" style=\"font-size: 0.8em; letter-spacing: 1px\">\n",
       "        <textPath xlink:href=\"#arrow-83f8875dda61462b98a54960161a04bf-0-4\" class=\"displacy-label\" startOffset=\"50%\" side=\"left\" fill=\"currentColor\" text-anchor=\"middle\">nsubj</textPath>\n",
       "    </text>\n",
       "    <path class=\"displacy-arrowhead\" d=\"M770,179.0 L762,167.0 778,167.0\" fill=\"currentColor\"/>\n",
       "</g>\n",
       "\n",
       "<g class=\"displacy-arrow\">\n",
       "    <path class=\"displacy-arc\" id=\"arrow-83f8875dda61462b98a54960161a04bf-0-5\" stroke-width=\"2px\" d=\"M945,177.0 C945,89.5 1095.0,89.5 1095.0,177.0\" fill=\"none\" stroke=\"currentColor\"/>\n",
       "    <text dy=\"1.25em\" style=\"font-size: 0.8em; letter-spacing: 1px\">\n",
       "        <textPath xlink:href=\"#arrow-83f8875dda61462b98a54960161a04bf-0-5\" class=\"displacy-label\" startOffset=\"50%\" side=\"left\" fill=\"currentColor\" text-anchor=\"middle\">prep</textPath>\n",
       "    </text>\n",
       "    <path class=\"displacy-arrowhead\" d=\"M1095.0,179.0 L1103.0,167.0 1087.0,167.0\" fill=\"currentColor\"/>\n",
       "</g>\n",
       "\n",
       "<g class=\"displacy-arrow\">\n",
       "    <path class=\"displacy-arc\" id=\"arrow-83f8875dda61462b98a54960161a04bf-0-6\" stroke-width=\"2px\" d=\"M1120,177.0 C1120,89.5 1270.0,89.5 1270.0,177.0\" fill=\"none\" stroke=\"currentColor\"/>\n",
       "    <text dy=\"1.25em\" style=\"font-size: 0.8em; letter-spacing: 1px\">\n",
       "        <textPath xlink:href=\"#arrow-83f8875dda61462b98a54960161a04bf-0-6\" class=\"displacy-label\" startOffset=\"50%\" side=\"left\" fill=\"currentColor\" text-anchor=\"middle\">pobj</textPath>\n",
       "    </text>\n",
       "    <path class=\"displacy-arrowhead\" d=\"M1270.0,179.0 L1278.0,167.0 1262.0,167.0\" fill=\"currentColor\"/>\n",
       "</g>\n",
       "</svg></span>"
      ],
      "text/plain": [
       "<IPython.core.display.HTML object>"
      ]
     },
     "metadata": {},
     "output_type": "display_data"
    }
   ],
   "source": [
    "spacy.displacy.render(doc, style='dep', jupyter=True)"
   ]
  },
  {
   "cell_type": "code",
   "execution_count": 10,
   "metadata": {},
   "outputs": [
    {
     "name": "stdout",
     "output_type": "stream",
     "text": [
      "Similarity between Apple and Apple is: 1.0\n",
      "Similarity between Apple and 's is: 0.07746326923370361\n",
      "Similarity between Apple and CEO is: 0.41025739908218384\n",
      "Similarity between Apple and Tim is: 0.23843292891979218\n",
      "Similarity between Apple and Cooke is: 0.146605983376503\n",
      "Similarity between Apple and studied is: -0.15495207905769348\n",
      "Similarity between Apple and at is: -0.13315345346927643\n",
      "Similarity between Apple and Auburn is: 0.007197211496531963\n",
      "Similarity between 's and Apple is: 0.07746326923370361\n",
      "Similarity between 's and 's is: 1.0\n",
      "Similarity between 's and CEO is: 0.03286690637469292\n",
      "Similarity between 's and Tim is: 0.10106871277093887\n",
      "Similarity between 's and Cooke is: 0.04820575192570686\n",
      "Similarity between 's and studied is: -0.06412743031978607\n",
      "Similarity between 's and at is: -0.14729061722755432\n",
      "Similarity between 's and Auburn is: 0.049656011164188385\n",
      "Similarity between CEO and Apple is: 0.41025739908218384\n",
      "Similarity between CEO and 's is: 0.03286690637469292\n",
      "Similarity between CEO and CEO is: 1.0\n",
      "Similarity between CEO and Tim is: 0.35726484656333923\n",
      "Similarity between CEO and Cooke is: 0.2735234200954437\n",
      "Similarity between CEO and studied is: 0.08270416408777237\n",
      "Similarity between CEO and at is: 0.006050765048712492\n",
      "Similarity between CEO and Auburn is: 0.2530885338783264\n",
      "Similarity between Tim and Apple is: 0.23843292891979218\n",
      "Similarity between Tim and 's is: 0.10106871277093887\n",
      "Similarity between Tim and CEO is: 0.35726484656333923\n",
      "Similarity between Tim and Tim is: 1.0\n",
      "Similarity between Tim and Cooke is: 0.35119113326072693\n",
      "Similarity between Tim and studied is: -0.02052442356944084\n",
      "Similarity between Tim and at is: -0.023375241085886955\n",
      "Similarity between Tim and Auburn is: 0.21603555977344513\n",
      "Similarity between Cooke and Apple is: 0.146605983376503\n",
      "Similarity between Cooke and 's is: 0.04820575192570686\n",
      "Similarity between Cooke and CEO is: 0.2735234200954437\n",
      "Similarity between Cooke and Tim is: 0.35119113326072693\n",
      "Similarity between Cooke and Cooke is: 1.0\n",
      "Similarity between Cooke and studied is: 0.10618489980697632\n",
      "Similarity between Cooke and at is: -0.02370838262140751\n",
      "Similarity between Cooke and Auburn is: 0.2075318843126297\n",
      "Similarity between studied and Apple is: -0.15495207905769348\n",
      "Similarity between studied and 's is: -0.06412743031978607\n",
      "Similarity between studied and CEO is: 0.08270416408777237\n",
      "Similarity between studied and Tim is: -0.02052442356944084\n",
      "Similarity between studied and Cooke is: 0.10618489980697632\n",
      "Similarity between studied and studied is: 1.0\n",
      "Similarity between studied and at is: 0.16921284794807434\n",
      "Similarity between studied and Auburn is: 0.10779806226491928\n",
      "Similarity between at and Apple is: -0.13315345346927643\n",
      "Similarity between at and 's is: -0.14729061722755432\n",
      "Similarity between at and CEO is: 0.006050765048712492\n",
      "Similarity between at and Tim is: -0.023375241085886955\n",
      "Similarity between at and Cooke is: -0.02370838262140751\n",
      "Similarity between at and studied is: 0.16921284794807434\n",
      "Similarity between at and at is: 1.0\n",
      "Similarity between at and Auburn is: 0.08291035890579224\n",
      "Similarity between Auburn and Apple is: 0.007197211496531963\n",
      "Similarity between Auburn and 's is: 0.049656011164188385\n",
      "Similarity between Auburn and CEO is: 0.2530885338783264\n",
      "Similarity between Auburn and Tim is: 0.21603555977344513\n",
      "Similarity between Auburn and Cooke is: 0.2075318843126297\n",
      "Similarity between Auburn and studied is: 0.10779806226491928\n",
      "Similarity between Auburn and at is: 0.08291035890579224\n",
      "Similarity between Auburn and Auburn is: 1.0\n"
     ]
    },
    {
     "name": "stderr",
     "output_type": "stream",
     "text": [
      "/Users/inigoparra/opt/anaconda3/envs/tensorflow/lib/python3.7/site-packages/ipykernel_launcher.py:3: UserWarning: [W007] The model you're using has no word vectors loaded, so the result of the Token.similarity method will be based on the tagger, parser and NER, which may not give useful similarity judgements. This may happen if you're using one of the small models, e.g. `en_core_web_sm`, which don't ship with word vectors and only use context-sensitive tensors. You can always add your own word vectors, or use one of the larger models instead if available.\n",
      "  This is separate from the ipykernel package so we can avoid doing imports until\n"
     ]
    }
   ],
   "source": [
    "for token_a in doc:\n",
    "    for token_b in doc:\n",
    "        print(f'Similarity between {token_a} and {token_b} is: {token_a.similarity(token_b)}')\n"
   ]
  },
  {
   "cell_type": "code",
   "execution_count": null,
   "metadata": {},
   "outputs": [],
   "source": []
  }
 ],
 "metadata": {
  "kernelspec": {
   "display_name": "Python 3",
   "language": "python",
   "name": "python3"
  },
  "language_info": {
   "codemirror_mode": {
    "name": "ipython",
    "version": 3
   },
   "file_extension": ".py",
   "mimetype": "text/x-python",
   "name": "python",
   "nbconvert_exporter": "python",
   "pygments_lexer": "ipython3",
   "version": "3.7.15"
  },
  "orig_nbformat": 4
 },
 "nbformat": 4,
 "nbformat_minor": 2
}
