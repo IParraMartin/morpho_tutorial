{
 "cells": [
  {
   "cell_type": "code",
   "execution_count": 1,
   "metadata": {},
   "outputs": [
    {
     "name": "stderr",
     "output_type": "stream",
     "text": [
      "/Users/inigoparra/opt/anaconda3/envs/tensorflow/lib/python3.7/site-packages/tqdm/auto.py:22: TqdmWarning: IProgress not found. Please update jupyter and ipywidgets. See https://ipywidgets.readthedocs.io/en/stable/user_install.html\n",
      "  from .autonotebook import tqdm as notebook_tqdm\n",
      "2023-09-22 20:12:17.926858: I tensorflow/core/platform/cpu_feature_guard.cc:193] This TensorFlow binary is optimized with oneAPI Deep Neural Network Library (oneDNN) to use the following CPU instructions in performance-critical operations:  SSE4.1 SSE4.2\n",
      "To enable them in other operations, rebuild TensorFlow with the appropriate compiler flags.\n",
      "Using TensorFlow backend.\n"
     ]
    }
   ],
   "source": [
    "import spacy"
   ]
  },
  {
   "cell_type": "code",
   "execution_count": 47,
   "metadata": {},
   "outputs": [],
   "source": [
    "prep = [\"of\", \"in\", \"out\", \"back\", \"on\"]\n",
    "noun_pronoun = [\"house\", \"table\", \"Boy\", \"girls\", \"group\"]"
   ]
  },
  {
   "cell_type": "code",
   "execution_count": 48,
   "metadata": {},
   "outputs": [],
   "source": [
    "master_data = [prep, noun_pronoun]"
   ]
  },
  {
   "cell_type": "code",
   "execution_count": 49,
   "metadata": {},
   "outputs": [],
   "source": [
    "dictionary = {\"Preposition\":[],\n",
    "              \"Nouns\":[]\n",
    "              }"
   ]
  },
  {
   "cell_type": "code",
   "execution_count": 50,
   "metadata": {},
   "outputs": [],
   "source": [
    "for i in range(len(master_data[0])):\n",
    "    dictionary[\"Preposition\"].append(master_data[0][i])\n",
    "    dictionary[\"Nouns\"].append(master_data[1][i])\n"
   ]
  },
  {
   "cell_type": "code",
   "execution_count": 55,
   "metadata": {},
   "outputs": [
    {
     "name": "stdout",
     "output_type": "stream",
     "text": [
      "{'Preposition': ['of', 'in', 'out', 'back', 'on'], 'Nouns': ['house', 'table', 'Boy', 'girls', 'group']}\n"
     ]
    }
   ],
   "source": [
    "print(dictionary)"
   ]
  },
  {
   "cell_type": "code",
   "execution_count": 67,
   "metadata": {},
   "outputs": [
    {
     "name": "stdout",
     "output_type": "stream",
     "text": [
      "['house', 'table', 'boy', 'girls', 'group']\n",
      "['house', 'table', 'Boy', 'girls', 'group']\n"
     ]
    }
   ],
   "source": [
    "tokens = dictionary[\"Nouns\"]\n",
    "lower_tokens = [i.lower() for i in tokens]\n",
    "print(lower_tokens)\n",
    "print(tokens)"
   ]
  },
  {
   "cell_type": "code",
   "execution_count": 119,
   "metadata": {},
   "outputs": [
    {
     "name": "stdout",
     "output_type": "stream",
     "text": [
      "1\n",
      "3\n",
      "4\n",
      "6\n",
      "9\n",
      "1\n",
      "4\n",
      "6\n",
      "7\n",
      "6\n"
     ]
    }
   ],
   "source": [
    "nums = [1, 3, 4, 6, 9, 1, 4, 6, 7, 6]\n",
    "\n",
    "equal_zero = [print(i) for i in nums if i%1 == 0]"
   ]
  },
  {
   "cell_type": "code",
   "execution_count": 97,
   "metadata": {},
   "outputs": [],
   "source": [
    "import random\n",
    "\n",
    "random_list = []\n",
    "\n",
    "while len(random_list) < 1000:\n",
    "    number = random.randint(0,100)\n",
    "    random_list.append(number)\n"
   ]
  },
  {
   "cell_type": "code",
   "execution_count": 98,
   "metadata": {},
   "outputs": [
    {
     "name": "stdout",
     "output_type": "stream",
     "text": [
      "[39, 14, 97, 50, 50, 88, 39, 86, 76, 91, 28, 59, 48, 95, 87, 99, 78, 87, 59, 77, 51, 29, 22, 75, 68, 67, 4, 33, 61, 64, 46, 47, 74, 83, 87, 61, 30, 28, 18, 64, 98, 66, 37, 11, 45, 13, 89, 47, 4, 75, 25, 81, 61, 60, 90, 67, 77, 22, 90, 50, 52, 14, 38, 52, 87, 73, 45, 7, 65, 13, 84, 22, 73, 99, 39, 56, 5, 54, 27, 38, 33, 0, 60, 78, 56, 99, 49, 85, 66, 50, 10, 13, 86, 95, 23, 56, 91, 86, 13, 2, 45, 76, 95, 55, 62, 57, 80, 98, 44, 83, 74, 16, 51, 57, 13, 7, 48, 33, 30, 77, 23, 18, 99, 16, 97, 21, 55, 48, 54, 11, 80, 21, 91, 28, 18, 60, 18, 21, 81, 46, 62, 31, 36, 19, 81, 42, 91, 93, 18, 19, 100, 89, 90, 36, 80, 12, 51, 71, 80, 80, 47, 0, 17, 45, 99, 88, 71, 99, 42, 52, 3, 56, 13, 42, 8, 1, 85, 16, 92, 29, 91, 6, 64, 38, 73, 53, 24, 62, 56, 81, 93, 51, 18, 13, 2, 77, 82, 56, 89, 47, 90, 42, 83, 41, 67, 57, 31, 53, 97, 81, 95, 68, 46, 82, 45, 27, 98, 31, 67, 82, 64, 40, 70, 52, 49, 24, 2, 32, 20, 72, 57, 15, 9, 50, 2, 35, 64, 49, 13, 92, 91, 54, 46, 33, 51, 47, 15, 64, 64, 18, 82, 67, 34, 21, 37, 93, 73, 86, 92, 98, 6, 47, 75, 65, 97, 92, 14, 48, 75, 32, 90, 36, 0, 1, 27, 82, 7, 16, 51, 20, 37, 61, 23, 24, 93, 4, 37, 57, 40, 38, 82, 65, 99, 22, 86, 17, 21, 30, 93, 75, 52, 14, 83, 16, 64, 97, 88, 62, 79, 51, 31, 24, 47, 17, 8, 95, 29, 16, 56, 43, 30, 19, 59, 10, 64, 25, 40, 34, 52, 40, 9, 75, 7, 24, 52, 20, 37, 22, 61, 42, 67, 22, 22, 72, 97, 79, 28, 25, 67, 65, 32, 18, 20, 15, 74, 40, 44, 88, 69, 16, 38, 41, 64, 17, 35, 52, 91, 82, 53, 77, 25, 84, 63, 28, 69, 56, 72, 43, 33, 53, 5, 26, 30, 4, 14, 40, 91, 8, 60, 51, 93, 5, 95, 49, 47, 46, 88, 60, 11, 48, 56, 34, 23, 77, 70, 58, 70, 39, 13, 4, 51, 78, 66, 74, 28, 81, 10, 76, 2, 50, 24, 47, 22, 76, 44, 83, 40, 66, 66, 1, 5, 39, 86, 85, 46, 17, 74, 19, 10, 52, 7, 72, 56, 71, 73, 67, 5, 27, 90, 21, 10, 16, 38, 46, 55, 58, 0, 76, 9, 19, 99, 44, 86, 35, 64, 58, 82, 59, 64, 2, 85, 26, 38, 17, 78, 20, 40, 8, 33, 86, 78, 99, 100, 14, 64, 55, 87, 34, 88, 64, 28, 38, 67, 18, 47, 52, 32, 42, 58, 69, 70, 13, 29, 4, 38, 92, 23, 41, 19, 56, 99, 1, 61, 70, 51, 43, 0, 36, 76, 66, 1, 8, 36, 41, 35, 58, 99, 50, 17, 53, 15, 28, 22, 60, 32, 96, 40, 98, 87, 24, 29, 86, 90, 96, 9, 34, 48, 18, 9, 13, 29, 15, 78, 18, 95, 99, 61, 87, 42, 88, 96, 76, 37, 27, 97, 80, 29, 59, 17, 65, 25, 17, 77, 61, 69, 81, 46, 33, 33, 99, 10, 15, 56, 70, 72, 62, 61, 11, 92, 86, 30, 98, 76, 33, 85, 52, 66, 66, 94, 78, 40, 8, 32, 8, 21, 20, 23, 27, 26, 66, 75, 28, 67, 87, 71, 11, 7, 81, 81, 14, 31, 17, 53, 99, 79, 9, 94, 25, 68, 84, 14, 63, 45, 34, 21, 65, 8, 78, 70, 10, 72, 76, 61, 44, 98, 48, 63, 26, 10, 27, 86, 87, 74, 89, 86, 46, 93, 26, 57, 72, 70, 39, 2, 27, 8, 1, 59, 70, 64, 89, 52, 88, 37, 94, 70, 70, 98, 33, 67, 86, 63, 11, 12, 40, 70, 4, 46, 69, 27, 29, 38, 57, 56, 68, 92, 20, 57, 43, 45, 96, 51, 83, 39, 94, 30, 87, 8, 14, 89, 20, 87, 56, 56, 28, 46, 58, 65, 95, 4, 58, 36, 38, 33, 72, 65, 85, 88, 40, 74, 91, 7, 71, 60, 3, 62, 88, 41, 78, 50, 76, 7, 21, 69, 28, 68, 11, 18, 88, 11, 2, 84, 87, 97, 8, 37, 51, 62, 22, 93, 92, 60, 13, 47, 82, 7, 60, 39, 49, 15, 3, 21, 44, 71, 69, 57, 7, 51, 19, 28, 59, 40, 9, 3, 69, 98, 87, 63, 61, 16, 4, 12, 2, 9, 74, 37, 83, 54, 6, 10, 84, 7, 6, 37, 27, 53, 27, 43, 53, 71, 68, 4, 46, 21, 44, 49, 43, 49, 17, 52, 85, 66, 5, 48, 9, 34, 9, 92, 29, 55, 73, 95, 65, 89, 19, 74, 77, 72, 60, 28, 16, 22, 11, 59, 60, 7, 45, 19, 23, 47, 9, 32, 32, 57, 76, 27, 90, 27, 55, 21, 100, 37, 84, 72, 68, 28, 48, 57, 2, 26, 0, 72, 89, 3, 57, 75, 64, 20, 18, 43, 65, 83, 27, 61, 98, 9, 100, 24, 89, 50, 18, 78, 30, 13, 30, 61, 47, 28, 76, 23, 86, 91, 54, 99, 94, 53, 51, 54, 80, 7, 23, 57, 43, 56, 74, 100, 87, 60, 87, 77, 79, 0, 15, 33, 97, 27, 44, 67, 84, 5, 57, 71, 65, 33, 76, 94, 88, 16, 13, 89, 29, 5, 99, 93, 60, 31, 46, 36, 10, 64, 97, 61, 42, 65, 36, 84, 2, 92, 82, 8, 25, 68, 66, 41, 35, 69, 8, 72, 74, 55, 81, 46, 56, 38, 42, 77, 32, 78, 58, 92, 70, 53, 77, 20, 70, 27, 73, 25, 15, 99, 66, 36, 93, 67, 3, 69, 6, 38, 52, 49, 3]\n"
     ]
    }
   ],
   "source": [
    "print(random_list)"
   ]
  },
  {
   "cell_type": "code",
   "execution_count": 118,
   "metadata": {},
   "outputs": [
    {
     "name": "stdout",
     "output_type": "stream",
     "text": [
      "[14, 50, 50, 88, 86, 76, 28, 48, 78, 22, 68, 4, 64, 46, 74, 30, 28, 18, 64, 98, 66, 4, 60, 90, 22, 90, 50, 52, 14, 38, 52, 84, 22, 56, 54, 38, 0, 60, 78, 56, 66, 50, 10, 86, 56, 86, 2, 76, 62, 80, 98, 44, 74, 16, 48, 30, 18, 16, 48, 54, 80, 28, 18, 60, 18, 46, 62, 36, 42, 18, 100, 90, 36, 80, 12, 80, 80, 0, 88, 42, 52, 56, 42, 8, 16, 92, 6, 64, 38, 24, 62, 56, 18, 2, 82, 56, 90, 42, 68, 46, 82, 98, 82, 64, 40, 70, 52, 24, 2, 32, 20, 72, 50, 2, 64, 92, 54, 46, 64, 64, 18, 82, 34, 86, 92, 98, 6, 92, 14, 48, 32, 90, 36, 0, 82, 16, 20, 24, 4, 40, 38, 82, 22, 86, 30, 52, 14, 16, 64, 88, 62, 24, 8, 16, 56, 30, 10, 64, 40, 34, 52, 40, 24, 52, 20, 22, 42, 22, 22, 72, 28, 32, 18, 20, 74, 40, 44, 88, 16, 38, 64, 52, 82, 84, 28, 56, 72, 26, 30, 4, 14, 40, 8, 60, 46, 88, 60, 48, 56, 34, 70, 58, 70, 4, 78, 66, 74, 28, 10, 76, 2, 50, 24, 22, 76, 44, 40, 66, 66, 86, 46, 74, 10, 52, 72, 56, 90, 10, 16, 38, 46, 58, 0, 76, 44, 86, 64, 58, 82, 64, 2, 26, 38, 78, 20, 40, 8, 86, 78, 100, 14, 64, 34, 88, 64, 28, 38, 18, 52, 32, 42, 58, 70, 4, 38, 92, 56, 70, 0, 36, 76, 66, 8, 36, 58, 50, 28, 22, 60, 32, 96, 40, 98, 24, 86, 90, 96, 34, 48, 18, 78, 18, 42, 88, 96, 76, 80, 46, 10, 56, 70, 72, 62, 92, 86, 30, 98, 76, 52, 66, 66, 94, 78, 40, 8, 32, 8, 20, 26, 66, 28, 14, 94, 68, 84, 14, 34, 8, 78, 70, 10, 72, 76, 44, 98, 48, 26, 10, 86, 74, 86, 46, 26, 72, 70, 2, 8, 70, 64, 52, 88, 94, 70, 70, 98, 86, 12, 40, 70, 4, 46, 38, 56, 68, 92, 20, 96, 94, 30, 8, 14, 20, 56, 56, 28, 46, 58, 4, 58, 36, 38, 72, 88, 40, 74, 60, 62, 88, 78, 50, 76, 28, 68, 18, 88, 2, 84, 8, 62, 22, 92, 60, 82, 60, 44, 28, 40, 98, 16, 4, 12, 2, 74, 54, 6, 10, 84, 6, 68, 4, 46, 44, 52, 66, 48, 34, 92, 74, 72, 60, 28, 16, 22, 60, 32, 32, 76, 90, 100, 84, 72, 68, 28, 48, 2, 26, 0, 72, 64, 20, 18, 98, 100, 24, 50, 18, 78, 30, 30, 28, 76, 86, 54, 94, 54, 80, 56, 74, 100, 60, 0, 44, 84, 76, 94, 88, 16, 60, 46, 36, 10, 64, 42, 36, 84, 2, 92, 82, 8, 68, 66, 8, 72, 74, 46, 56, 38, 42, 32, 78, 58, 92, 70, 20, 70, 66, 36, 6, 38, 52]\n"
     ]
    }
   ],
   "source": [
    "new_list = []\n",
    "divisible = [new_list.append(i) for i in random_list if i %2 == 0]\n",
    "print(new_list)\n"
   ]
  },
  {
   "cell_type": "code",
   "execution_count": 131,
   "metadata": {},
   "outputs": [
    {
     "name": "stdout",
     "output_type": "stream",
     "text": [
      "16\n"
     ]
    }
   ],
   "source": [
    "def summa(*kwargs):\n",
    "    sum = 0\n",
    "    for i in range(0, len(kwargs)):\n",
    "        sum += kwargs[i]\n",
    "    return sum\n",
    "\n",
    "new_sum = summa(2, 1, 5, 7, 1)\n",
    "print(new_sum)"
   ]
  },
  {
   "cell_type": "code",
   "execution_count": 144,
   "metadata": {},
   "outputs": [
    {
     "name": "stdout",
     "output_type": "stream",
     "text": [
      "[['Keely', '16', 'Student', 'Spanish'], ['John', '20', 'Student', 'Math'], ['Riley', '30', 'Professor', 'Linguistics'], ['Inigo', '26', 'Professor', 'Comp. Linguistics'], ['Brianne', '24', 'Student', 'Comp. Linguistics'], ['Jennifer', '21', 'Student', 'English']]\n"
     ]
    }
   ],
   "source": [
    "import csv \n",
    "\n",
    "MyData = ((\"Keely\", 16, \"Student\", \"Spanish\"),\n",
    "          (\"John\", 20, \"Student\", \"Math\"),\n",
    "          (\"Riley\", 30, \"Professor\", \"Linguistics\"),\n",
    "          (\"Inigo\", 26, \"Professor\", \"Comp. Linguistics\"),\n",
    "          (\"Brianne\", 24, \"Student\", \"Comp. Linguistics\"),\n",
    "          (\"Jennifer\", 21, \"Student\", \"English\"))\n",
    "\n",
    "with open(file=\"/Users/inigoparra/Desktop/newfile.csv\", mode=\"w\") as f:\n",
    "    write = csv.writer(f)\n",
    "    for i in range(0, len(MyData)):\n",
    "        write.writerow(MyData[i])\n",
    "\n",
    "data = []\n",
    "with open(file=\"/Users/inigoparra/Desktop/newfile.csv\", mode=\"r\") as f:\n",
    "    read = csv.reader(f, delimiter=\",\")\n",
    "    for row in read:\n",
    "        data.append(row)\n",
    "        \n",
    "print(data)"
   ]
  },
  {
   "cell_type": "code",
   "execution_count": 148,
   "metadata": {},
   "outputs": [
    {
     "name": "stdout",
     "output_type": "stream",
     "text": [
      "-0.2\n",
      "-0.25\n",
      "-0.3333333333333333\n",
      "-0.5\n",
      "-1.0\n",
      "No possible theoretical math division\n",
      "1.0\n",
      "0.5\n",
      "0.3333333333333333\n",
      "0.25\n",
      "0.2\n"
     ]
    }
   ],
   "source": [
    "denominator = -5\n",
    "numerator = 1\n",
    "\n",
    "while denominator <= 5:\n",
    "    try:\n",
    "        print(numerator/denominator)\n",
    "    except ZeroDivisionError: \n",
    "        print(\"No possible theoretical math division\")\n",
    "        \n",
    "    denominator += 1\n",
    "\n"
   ]
  },
  {
   "cell_type": "code",
   "execution_count": null,
   "metadata": {},
   "outputs": [],
   "source": []
  }
 ],
 "metadata": {
  "kernelspec": {
   "display_name": "tensorflow",
   "language": "python",
   "name": "python3"
  },
  "language_info": {
   "codemirror_mode": {
    "name": "ipython",
    "version": 3
   },
   "file_extension": ".py",
   "mimetype": "text/x-python",
   "name": "python",
   "nbconvert_exporter": "python",
   "pygments_lexer": "ipython3",
   "version": "3.7.15"
  },
  "orig_nbformat": 4
 },
 "nbformat": 4,
 "nbformat_minor": 2
}
