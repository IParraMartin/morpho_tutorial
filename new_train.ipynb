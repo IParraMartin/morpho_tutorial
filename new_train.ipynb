{
 "cells": [
  {
   "cell_type": "code",
   "execution_count": 47,
   "metadata": {},
   "outputs": [],
   "source": [
    "prep = [\"of\", \"in\", \"out\", \"back\", \"on\"]\n",
    "noun_pronoun = [\"house\", \"table\", \"Boy\", \"girls\", \"group\"]"
   ]
  },
  {
   "cell_type": "code",
   "execution_count": 48,
   "metadata": {},
   "outputs": [],
   "source": [
    "master_data = [prep, noun_pronoun]"
   ]
  },
  {
   "cell_type": "code",
   "execution_count": 49,
   "metadata": {},
   "outputs": [],
   "source": [
    "dictionary = {\"Preposition\":[],\n",
    "              \"Nouns\":[]\n",
    "              }"
   ]
  },
  {
   "cell_type": "code",
   "execution_count": 50,
   "metadata": {},
   "outputs": [],
   "source": [
    "for i in range(len(master_data[0])):\n",
    "    dictionary[\"Preposition\"].append(master_data[0][i])\n",
    "    dictionary[\"Nouns\"].append(master_data[1][i])\n"
   ]
  },
  {
   "cell_type": "code",
   "execution_count": 55,
   "metadata": {},
   "outputs": [
    {
     "name": "stdout",
     "output_type": "stream",
     "text": [
      "{'Preposition': ['of', 'in', 'out', 'back', 'on'], 'Nouns': ['house', 'table', 'Boy', 'girls', 'group']}\n"
     ]
    }
   ],
   "source": [
    "print(dictionary)"
   ]
  },
  {
   "cell_type": "code",
   "execution_count": 24,
   "metadata": {},
   "outputs": [],
   "source": [
    "Student = [\"Inigo\", \"Brianne\", \"John\", \"Peter\", \"Riley\", \"Stuart\", \"Kelly\"]\n",
    "Age = [20, 22, 24, 20, 21, 21, 23]\n",
    "Major = [\"SP\", \"EN\", \"EN\", \"SP\", \"SP\", \"SP\", \"GER\"]\n",
    "Minor = [\"CS\", \"IS\", \"PHI\", \"PS\", \"PS\", \"BUS\", \"FIN\"]\n",
    "\n",
    "master_list = [Student, Age, Major, Minor]\n",
    "\n",
    "MyDictionary = {\"Student\":[],\n",
    "                \"Age\": [],\n",
    "                \"Major\":[],\n",
    "                \"Minor\": []}\n",
    "\n",
    "for i in range(len(master_list)):\n",
    "    MyDictionary['Student'].append(master_list[0][i])\n",
    "    MyDictionary['Age'].append(master_list[1][i])\n",
    "    MyDictionary['Major'].append(master_list[2][i])\n",
    "    MyDictionary['Minor'].append(master_list[3][i])"
   ]
  },
  {
   "cell_type": "code",
   "execution_count": 25,
   "metadata": {},
   "outputs": [
    {
     "name": "stdout",
     "output_type": "stream",
     "text": [
      "[['Keely', '16', 'Student', 'Spanish'], ['John', '20', 'Student', 'Math'], ['Riley', '30', 'Professor', 'Linguistics'], ['Inigo', '26', 'Professor', 'Comp. Linguistics'], ['Brianne', '24', 'Student', 'Comp. Linguistics'], ['Jennifer', '21', 'Student', 'English']]\n"
     ]
    }
   ],
   "source": [
    "import csv \n",
    "\n",
    "MyData = ((\"Keely\", 16, \"Student\", \"Spanish\"),\n",
    "          (\"John\", 20, \"Student\", \"Math\"),\n",
    "          (\"Riley\", 30, \"Professor\", \"Linguistics\"),\n",
    "          (\"Inigo\", 26, \"Professor\", \"Comp. Linguistics\"),\n",
    "          (\"Brianne\", 24, \"Student\", \"Comp. Linguistics\"),\n",
    "          (\"Jennifer\", 21, \"Student\", \"English\"))\n",
    "\n",
    "with open(file=\"/Users/inigoparra/Desktop/newfile.csv\", mode=\"w\") as f:\n",
    "    write = csv.writer(f)\n",
    "    for i in range(0, len(MyData)):\n",
    "        write.writerow(MyData[i])\n",
    "\n",
    "data = []\n",
    "with open(file=\"/Users/inigoparra/Desktop/newfile.csv\", mode=\"r\") as f:\n",
    "    read = csv.reader(f, delimiter=\",\")\n",
    "    for row in read:\n",
    "        data.append(row)\n",
    "        \n",
    "print(data)"
   ]
  },
  {
   "cell_type": "code",
   "execution_count": 148,
   "metadata": {},
   "outputs": [
    {
     "name": "stdout",
     "output_type": "stream",
     "text": [
      "-0.2\n",
      "-0.25\n",
      "-0.3333333333333333\n",
      "-0.5\n",
      "-1.0\n",
      "No possible theoretical math division\n",
      "1.0\n",
      "0.5\n",
      "0.3333333333333333\n",
      "0.25\n",
      "0.2\n"
     ]
    }
   ],
   "source": [
    "denominator = -5\n",
    "numerator = 1\n",
    "\n",
    "while denominator <= 5:\n",
    "    try:\n",
    "        print(numerator/denominator)\n",
    "    except ZeroDivisionError: \n",
    "        print(\"No possible theoretical math division\")\n",
    "        \n",
    "    denominator += 1\n",
    "\n"
   ]
  },
  {
   "cell_type": "code",
   "execution_count": null,
   "metadata": {},
   "outputs": [],
   "source": []
  }
 ],
 "metadata": {
  "kernelspec": {
   "display_name": "tensorflow",
   "language": "python",
   "name": "python3"
  },
  "language_info": {
   "codemirror_mode": {
    "name": "ipython",
    "version": 3
   },
   "file_extension": ".py",
   "mimetype": "text/x-python",
   "name": "python",
   "nbconvert_exporter": "python",
   "pygments_lexer": "ipython3",
   "version": "3.7.15"
  },
  "orig_nbformat": 4
 },
 "nbformat": 4,
 "nbformat_minor": 2
}
